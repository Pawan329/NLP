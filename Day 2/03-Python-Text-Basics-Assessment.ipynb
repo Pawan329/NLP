{
 "cells": [
  {
   "cell_type": "markdown",
   "metadata": {},
   "source": [
    "___\n",
    "\n",
    "<a href='http://www.pieriandata.com'> <img src='../Pierian_Data_Logo.png' /></a>\n",
    "___"
   ]
  },
  {
   "cell_type": "markdown",
   "metadata": {
    "collapsed": true
   },
   "source": [
    "# Python Text Basics Assessment\n",
    "\n",
    "Welcome to your assessment! Complete the tasks described in bold below by typing the relevant code in the cells.<br>\n",
    "You can compare your answers to the Solutions notebook provided in this folder."
   ]
  },
  {
   "cell_type": "markdown",
   "metadata": {},
   "source": [
    "## f-Strings\n",
    "#### 1. Print an f-string that displays `NLP stands for Natural Language Processing` using the variables provided."
   ]
  },
  {
   "cell_type": "code",
   "execution_count": 1,
   "metadata": {},
   "outputs": [
    {
     "name": "stdout",
     "output_type": "stream",
     "text": [
      "NLP Natural Language Processing\n"
     ]
    }
   ],
   "source": [
    "abbr = 'NLP'\n",
    "full_text = 'Natural Language Processing'\n",
    "\n",
    "# Enter your code here:\n",
    "print(abbr+\" \"+full_text)"
   ]
  },
  {
   "cell_type": "markdown",
   "metadata": {},
   "source": [
    "## Files\n",
    "#### 2. Create a file in the current working directory called `contacts.txt` by running the cell below:"
   ]
  },
  {
   "cell_type": "code",
   "execution_count": 2,
   "metadata": {},
   "outputs": [
    {
     "name": "stdout",
     "output_type": "stream",
     "text": [
      "Writing contacts.txt\n"
     ]
    }
   ],
   "source": [
    "%%writefile contacts.txt\n",
    "First_Name Last_Name, Title, Extension, Email"
   ]
  },
  {
   "cell_type": "markdown",
   "metadata": {},
   "source": [
    "#### 3. Open the file and use .read() to save the contents of the file to a string called `fields`.  Make sure the file is closed at the end."
   ]
  },
  {
   "cell_type": "code",
   "execution_count": 3,
   "metadata": {},
   "outputs": [
    {
     "data": {
      "text/plain": [
       "'First_Name Last_Name, Title, Extension, Email\\n'"
      ]
     },
     "execution_count": 3,
     "metadata": {},
     "output_type": "execute_result"
    }
   ],
   "source": [
    "# Write your code here:\n",
    "myfile = open('contacts.txt')\n",
    "fields = myfile.read()\n",
    "\n",
    "myfile.close()\n",
    "\n",
    "    \n",
    "# Run fields to see the contents of contacts.txt:\n",
    "fields"
   ]
  },
  {
   "cell_type": "markdown",
   "metadata": {},
   "source": [
    "## Working with PDF Files\n",
    "#### 4. Use PyPDF2 to open the file `Business_Proposal.pdf`. Extract the text of page 2."
   ]
  },
  {
   "cell_type": "code",
   "execution_count": 13,
   "metadata": {},
   "outputs": [
    {
     "name": "stdout",
     "output_type": "stream",
     "text": [
      "2\n"
     ]
    },
    {
     "ename": "IndexError",
     "evalue": "sequence index out of range",
     "output_type": "error",
     "traceback": [
      "\u001b[1;31m---------------------------------------------------------------------------\u001b[0m",
      "\u001b[1;31mIndexError\u001b[0m                                Traceback (most recent call last)",
      "Cell \u001b[1;32mIn[13], line 15\u001b[0m\n\u001b[0;32m     12\u001b[0m \u001b[38;5;28mprint\u001b[39m(len_pages)\n\u001b[0;32m     14\u001b[0m \u001b[38;5;66;03m# Get the text from page 2 (CHALLENGE: Do this in one step!)\u001b[39;00m\n\u001b[1;32m---> 15\u001b[0m page_two_text \u001b[38;5;241m=\u001b[39m \u001b[43mfile_reader\u001b[49m\u001b[38;5;241;43m.\u001b[39;49m\u001b[43mpages\u001b[49m\u001b[43m[\u001b[49m\u001b[38;5;241;43m2\u001b[39;49m\u001b[43m]\u001b[49m\u001b[38;5;241m.\u001b[39mextractText\n\u001b[0;32m     18\u001b[0m \u001b[38;5;66;03m# Close the file\u001b[39;00m\n\u001b[0;32m     19\u001b[0m myfile\u001b[38;5;241m.\u001b[39mclose()\n",
      "File \u001b[1;32m~\\AppData\\Roaming\\Python\\Python311\\site-packages\\PyPDF2\\_page.py:2077\u001b[0m, in \u001b[0;36m_VirtualList.__getitem__\u001b[1;34m(self, index)\u001b[0m\n\u001b[0;32m   2075\u001b[0m     index \u001b[38;5;241m=\u001b[39m len_self \u001b[38;5;241m+\u001b[39m index\n\u001b[0;32m   2076\u001b[0m \u001b[38;5;28;01mif\u001b[39;00m index \u001b[38;5;241m<\u001b[39m \u001b[38;5;241m0\u001b[39m \u001b[38;5;129;01mor\u001b[39;00m index \u001b[38;5;241m>\u001b[39m\u001b[38;5;241m=\u001b[39m len_self:\n\u001b[1;32m-> 2077\u001b[0m     \u001b[38;5;28;01mraise\u001b[39;00m \u001b[38;5;167;01mIndexError\u001b[39;00m(\u001b[38;5;124m\"\u001b[39m\u001b[38;5;124msequence index out of range\u001b[39m\u001b[38;5;124m\"\u001b[39m)\n\u001b[0;32m   2078\u001b[0m \u001b[38;5;28;01mreturn\u001b[39;00m \u001b[38;5;28mself\u001b[39m\u001b[38;5;241m.\u001b[39mget_function(index)\n",
      "\u001b[1;31mIndexError\u001b[0m: sequence index out of range"
     ]
    }
   ],
   "source": [
    "# Perform import\n",
    "import PyPDF2\n",
    "\n",
    "\n",
    "# Open the file as a binary object\n",
    "myfile = open('Business_Proposal1.pdf', mode='rb')\n",
    "\n",
    "# Use PyPDF2 to read the text of the file\n",
    "file_reader = PyPDF2.PdfReader(myfile)\n",
    "\n",
    "len_pages = len(file_reader.pages)\n",
    "print(len_pages)\n",
    "\n",
    "# Get the text from page 2 (CHALLENGE: Do this in one step!)\n",
    "page_two_text = file_reader.pages[2].extractText\n",
    "\n",
    "\n",
    "# Close the file\n",
    "myfile.close()\n",
    "\n",
    "# Print the contents of page_two_text\n",
    "print(page_two_text)"
   ]
  },
  {
   "cell_type": "markdown",
   "metadata": {},
   "source": [
    "#### 5. Open the file `contacts.txt` in append mode. Add the text of page 2 from above to `contacts.txt`.\n",
    "\n",
    "#### CHALLENGE: See if you can remove the word \"AUTHORS:\""
   ]
  },
  {
   "cell_type": "code",
   "execution_count": 5,
   "metadata": {},
   "outputs": [
    {
     "name": "stdout",
     "output_type": "stream",
     "text": [
      "First_Name Last_Name, Title, Extension, EmailAUTHORS:\n",
      " \n",
      "Amy Baker, Finance Chair, x345, abaker@ourcompany.com\n",
      " \n",
      "Chris Donaldson, Accounting Dir., x621, cdonaldson@ourcompany.com\n",
      " \n",
      "Erin Freeman, Sr. VP, x879, efreeman@ourcompany.com\n",
      " \n",
      "\n"
     ]
    }
   ],
   "source": [
    "# Simple Solution:\n",
    "\n",
    "\n",
    "\n"
   ]
  },
  {
   "cell_type": "code",
   "execution_count": 7,
   "metadata": {},
   "outputs": [
    {
     "name": "stdout",
     "output_type": "stream",
     "text": [
      "First_Name Last_Name, Title, Extension, Email\n",
      " \n",
      "Amy Baker, Finance Chair, x345, abaker@ourcompany.com\n",
      " \n",
      "Chris Donaldson, Accounting Dir., x621, cdonaldson@ourcompany.com\n",
      " \n",
      "Erin Freeman, Sr. VP, x879, efreeman@ourcompany.com\n",
      " \n",
      "\n"
     ]
    }
   ],
   "source": [
    "# CHALLENGE Solution (re-run the %%writefile cell above to obtain an unmodified contacts.txt file):\n",
    "\n",
    "\n",
    "\n"
   ]
  },
  {
   "cell_type": "markdown",
   "metadata": {},
   "source": [
    "## Regular Expressions\n",
    "#### 6. Using the `page_two_text` variable created above, extract any email addresses that were contained in the file `Business_Proposal.pdf`."
   ]
  },
  {
   "cell_type": "code",
   "execution_count": 8,
   "metadata": {},
   "outputs": [
    {
     "data": {
      "text/plain": [
       "['abaker@ourcompany.com',\n",
       " 'cdonaldson@ourcompany.com',\n",
       " 'efreeman@ourcompany.com']"
      ]
     },
     "execution_count": 8,
     "metadata": {},
     "output_type": "execute_result"
    }
   ],
   "source": [
    "import re\n",
    "\n",
    "# Enter your regex pattern here. This may take several tries!\n",
    "pattern = \n",
    "\n",
    "re.findall(pattern, page_two_text)"
   ]
  },
  {
   "cell_type": "markdown",
   "metadata": {},
   "source": [
    "### Great job!"
   ]
  }
 ],
 "metadata": {
  "kernelspec": {
   "display_name": "Python 3",
   "language": "python",
   "name": "python3"
  },
  "language_info": {
   "codemirror_mode": {
    "name": "ipython",
    "version": 3
   },
   "file_extension": ".py",
   "mimetype": "text/x-python",
   "name": "python",
   "nbconvert_exporter": "python",
   "pygments_lexer": "ipython3",
   "version": "3.11.9"
  }
 },
 "nbformat": 4,
 "nbformat_minor": 2
}
